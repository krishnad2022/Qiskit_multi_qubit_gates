{
  "nbformat": 4,
  "nbformat_minor": 0,
  "metadata": {
    "colab": {
      "provenance": []
    },
    "kernelspec": {
      "name": "python3",
      "display_name": "Python 3"
    },
    "language_info": {
      "name": "python"
    }
  },
  "cells": [
    {
      "cell_type": "code",
      "source": [
        "!pip install qiskit qiskit-aer --upgrade"
      ],
      "metadata": {
        "id": "Mx6284lurNt1",
        "colab": {
          "base_uri": "https://localhost:8080/"
        },
        "outputId": "4cd18b70-f66e-47bd-bc8e-bdf39645f4de"
      },
      "execution_count": 1,
      "outputs": [
        {
          "output_type": "stream",
          "name": "stdout",
          "text": [
            "Collecting qiskit\n",
            "  Downloading qiskit-2.2.1-cp39-abi3-manylinux2014_x86_64.manylinux_2_17_x86_64.whl.metadata (12 kB)\n",
            "Collecting qiskit-aer\n",
            "  Downloading qiskit_aer-0.17.2-cp312-cp312-manylinux_2_17_x86_64.manylinux2014_x86_64.whl.metadata (8.3 kB)\n",
            "Collecting rustworkx>=0.15.0 (from qiskit)\n",
            "  Downloading rustworkx-0.17.1-cp39-abi3-manylinux_2_17_x86_64.manylinux2014_x86_64.whl.metadata (10 kB)\n",
            "Requirement already satisfied: numpy<3,>=1.17 in /usr/local/lib/python3.12/dist-packages (from qiskit) (2.0.2)\n",
            "Requirement already satisfied: scipy>=1.5 in /usr/local/lib/python3.12/dist-packages (from qiskit) (1.16.2)\n",
            "Requirement already satisfied: dill>=0.3 in /usr/local/lib/python3.12/dist-packages (from qiskit) (0.3.8)\n",
            "Collecting stevedore>=3.0.0 (from qiskit)\n",
            "  Downloading stevedore-5.5.0-py3-none-any.whl.metadata (2.2 kB)\n",
            "Requirement already satisfied: typing-extensions in /usr/local/lib/python3.12/dist-packages (from qiskit) (4.15.0)\n",
            "Requirement already satisfied: psutil>=5 in /usr/local/lib/python3.12/dist-packages (from qiskit-aer) (5.9.5)\n",
            "Requirement already satisfied: python-dateutil>=2.8.0 in /usr/local/lib/python3.12/dist-packages (from qiskit-aer) (2.9.0.post0)\n",
            "Requirement already satisfied: six>=1.5 in /usr/local/lib/python3.12/dist-packages (from python-dateutil>=2.8.0->qiskit-aer) (1.17.0)\n",
            "Downloading qiskit-2.2.1-cp39-abi3-manylinux2014_x86_64.manylinux_2_17_x86_64.whl (8.0 MB)\n",
            "\u001b[2K   \u001b[90m━━━━━━━━━━━━━━━━━━━━━━━━━━━━━━━━━━━━━━━━\u001b[0m \u001b[32m8.0/8.0 MB\u001b[0m \u001b[31m41.9 MB/s\u001b[0m eta \u001b[36m0:00:00\u001b[0m\n",
            "\u001b[?25hDownloading qiskit_aer-0.17.2-cp312-cp312-manylinux_2_17_x86_64.manylinux2014_x86_64.whl (12.4 MB)\n",
            "\u001b[2K   \u001b[90m━━━━━━━━━━━━━━━━━━━━━━━━━━━━━━━━━━━━━━━━\u001b[0m \u001b[32m12.4/12.4 MB\u001b[0m \u001b[31m87.3 MB/s\u001b[0m eta \u001b[36m0:00:00\u001b[0m\n",
            "\u001b[?25hDownloading rustworkx-0.17.1-cp39-abi3-manylinux_2_17_x86_64.manylinux2014_x86_64.whl (2.2 MB)\n",
            "\u001b[2K   \u001b[90m━━━━━━━━━━━━━━━━━━━━━━━━━━━━━━━━━━━━━━━━\u001b[0m \u001b[32m2.2/2.2 MB\u001b[0m \u001b[31m48.6 MB/s\u001b[0m eta \u001b[36m0:00:00\u001b[0m\n",
            "\u001b[?25hDownloading stevedore-5.5.0-py3-none-any.whl (49 kB)\n",
            "\u001b[2K   \u001b[90m━━━━━━━━━━━━━━━━━━━━━━━━━━━━━━━━━━━━━━━━\u001b[0m \u001b[32m49.5/49.5 kB\u001b[0m \u001b[31m2.2 MB/s\u001b[0m eta \u001b[36m0:00:00\u001b[0m\n",
            "\u001b[?25hInstalling collected packages: stevedore, rustworkx, qiskit, qiskit-aer\n",
            "Successfully installed qiskit-2.2.1 qiskit-aer-0.17.2 rustworkx-0.17.1 stevedore-5.5.0\n"
          ]
        }
      ]
    },
    {
      "cell_type": "code",
      "execution_count": 4,
      "metadata": {
        "id": "VPOwLacGrCdU",
        "colab": {
          "base_uri": "https://localhost:8080/"
        },
        "outputId": "f92c99e3-9e38-480d-bc95-6e3480ac31f6"
      },
      "outputs": [
        {
          "output_type": "stream",
          "name": "stdout",
          "text": [
            "Quantum Circuit (Swapped Control/Target):\n",
            "             ┌───┐       ░ ┌─┐   \n",
            "   q_0: ─────┤ X ├─■──X──░─┤M├───\n",
            "        ┌───┐└─┬─┘ │  │  ░ └╥┘┌─┐\n",
            "   q_1: ┤ H ├──■───■──X──░──╫─┤M├\n",
            "        └───┘            ░  ║ └╥┘\n",
            "   c: 2/════════════════════╬══╬═\n",
            "                            ║  ║ \n",
            "meas: 2/════════════════════╩══╩═\n",
            "                            0  1 \n",
            "\n",
            "Measurement Counts: {'00 00': 534, '11 00': 490}\n"
          ]
        }
      ],
      "source": [
        "#Task 1\n",
        "from qiskit import QuantumCircuit, transpile\n",
        "from qiskit_aer import AerSimulator\n",
        "\n",
        "# Initialize simulator\n",
        "sim = AerSimulator()\n",
        "\n",
        "# Create a 2-qubit circuit\n",
        "qc = QuantumCircuit(2, 2)\n",
        "\n",
        "qc.h(1)        # Apply Hadamard on qubit 1\n",
        "qc.cx(1, 0)    # CNOT with control=1, target=0 (swapped)\n",
        "qc.cz(1, 0)    # Controlled-Z with control=1, target=0\n",
        "qc.swap(0, 1)  # SWAP gate\n",
        "\n",
        "qc.measure_all()\n",
        "\n",
        "print(\"Quantum Circuit (Swapped Control/Target):\")\n",
        "print(qc.draw())\n",
        "\n",
        "compiled = transpile(qc, sim)\n",
        "result = sim.run(compiled, shots=1024).result()\n",
        "counts = result.get_counts()\n",
        "\n",
        "print(\"\\nMeasurement Counts:\", counts)\n"
      ]
    },
    {
      "cell_type": "code",
      "source": [
        "#Task 2\n",
        "qc.h(0)\n",
        "qc.cx(0, 1)\n",
        "qc.cz(0, 1)\n",
        "# qc.swap(0, 1) # SWAP gate is removed\n",
        "\n",
        "# Measure all qubits\n",
        "qc.measure_all()\n",
        "\n",
        "# Display circuit\n",
        "print(\"Quantum Circuit (SWAP Removed):\")\n",
        "print(qc.draw())\n",
        "\n",
        "# Run simulation\n",
        "compiled = transpile(qc, sim)\n",
        "result = sim.run(compiled, shots=1024).result()\n",
        "\n",
        "# Display results\n",
        "counts = result.get_counts()\n",
        "print(\"\\nMeasurement Counts:\", counts)"
      ],
      "metadata": {
        "id": "XXSzfpG9q7hc",
        "colab": {
          "base_uri": "https://localhost:8080/"
        },
        "outputId": "14533c18-2f9f-40b4-a270-e349d9bfe88e"
      },
      "execution_count": 7,
      "outputs": [
        {
          "output_type": "stream",
          "name": "stdout",
          "text": [
            "Quantum Circuit (SWAP Removed):\n",
            "              ┌───┐       ░ ┌─┐┌───┐         ░ ┌─┐               ░ ┌─┐┌───┐»\n",
            "    q_0: ─────┤ X ├─■──X──░─┤M├┤ H ├──■───■──░─┤M├─────■───■──X──░─┤M├┤ H ├»\n",
            "         ┌───┐└─┬─┘ │  │  ░ └╥┘└┬─┬┘┌─┴─┐ │  ░ └╥┘┌─┐┌─┴─┐ │  │  ░ └╥┘└┬─┬┘»\n",
            "    q_1: ┤ H ├──■───■──X──░──╫──┤M├─┤ X ├─■──░──╫─┤M├┤ X ├─■──X──░──╫──┤M├─»\n",
            "         └───┘            ░  ║  └╥┘ └───┘    ░  ║ └╥┘└───┘       ░  ║  └╥┘ »\n",
            "    c: 2/════════════════════╬═══╬══════════════╬══╬════════════════╬═══╬══»\n",
            "                             ║   ║              ║  ║                ║   ║  »\n",
            " meas: 2/════════════════════╩═══╩══════════════╬══╬════════════════╬═══╬══»\n",
            "                             0   1              ║  ║                ║   ║  »\n",
            "meas0: 2/═══════════════════════════════════════╩══╩════════════════╬═══╬══»\n",
            "                                                0  1                ║   ║  »\n",
            "meas1: 2/═══════════════════════════════════════════════════════════╩═══╩══»\n",
            "                                                                    0   1  »\n",
            "meas2: 2/══════════════════════════════════════════════════════════════════»\n",
            "                                                                           »\n",
            "«                  ░ ┌─┐   \n",
            "«    q_0: ──■───■──░─┤M├───\n",
            "«         ┌─┴─┐ │  ░ └╥┘┌─┐\n",
            "«    q_1: ┤ X ├─■──░──╫─┤M├\n",
            "«         └───┘    ░  ║ └╥┘\n",
            "«    c: 2/════════════╬══╬═\n",
            "«                     ║  ║ \n",
            "« meas: 2/════════════╬══╬═\n",
            "«                     ║  ║ \n",
            "«meas0: 2/════════════╬══╬═\n",
            "«                     ║  ║ \n",
            "«meas1: 2/════════════╬══╬═\n",
            "«                     ║  ║ \n",
            "«meas2: 2/════════════╩══╩═\n",
            "«                     0  1 \n",
            "\n",
            "Measurement Counts: {'10 11 01 11 00': 137, '00 01 10 11 00': 117, '01 11 01 11 00': 127, '10 10 11 00 00': 121, '00 00 00 00 00': 117, '11 01 10 11 00': 131, '01 10 11 00 00': 130, '11 00 00 00 00': 144}\n"
          ]
        }
      ]
    },
    {
      "cell_type": "code",
      "source": [
        "#Task 3\n",
        "qc.h(0)\n",
        "qc.h(1)        # <-- ADDED HADAMARD\n",
        "qc.cx(0, 1)\n",
        "qc.cz(0, 1)\n",
        "qc.swap(0, 1)\n",
        "\n",
        "# Measure all qubits\n",
        "qc.measure_all()\n",
        "\n",
        "# Display circuit\n",
        "print(\"Quantum Circuit (Second Hadamard Added):\")\n",
        "print(qc.draw())\n",
        "\n",
        "# Run simulation\n",
        "compiled = transpile(qc, sim)\n",
        "result = sim.run(compiled, shots=1024).result()\n",
        "\n",
        "# Display results\n",
        "counts = result.get_counts()\n",
        "print(\"\\nMeasurement Counts:\", counts)"
      ],
      "metadata": {
        "colab": {
          "base_uri": "https://localhost:8080/"
        },
        "id": "bkZGW-d9VIL3",
        "outputId": "ad52f2da-50bd-491c-f496-a2d5170e9c31"
      },
      "execution_count": 8,
      "outputs": [
        {
          "output_type": "stream",
          "name": "stdout",
          "text": [
            "Quantum Circuit (Second Hadamard Added):\n",
            "              ┌───┐       ░ ┌─┐┌───┐         ░ ┌─┐               ░ ┌─┐┌───┐»\n",
            "    q_0: ─────┤ X ├─■──X──░─┤M├┤ H ├──■───■──░─┤M├─────■───■──X──░─┤M├┤ H ├»\n",
            "         ┌───┐└─┬─┘ │  │  ░ └╥┘└┬─┬┘┌─┴─┐ │  ░ └╥┘┌─┐┌─┴─┐ │  │  ░ └╥┘└┬─┬┘»\n",
            "    q_1: ┤ H ├──■───■──X──░──╫──┤M├─┤ X ├─■──░──╫─┤M├┤ X ├─■──X──░──╫──┤M├─»\n",
            "         └───┘            ░  ║  └╥┘ └───┘    ░  ║ └╥┘└───┘       ░  ║  └╥┘ »\n",
            "    c: 2/════════════════════╬═══╬══════════════╬══╬════════════════╬═══╬══»\n",
            "                             ║   ║              ║  ║                ║   ║  »\n",
            " meas: 2/════════════════════╩═══╩══════════════╬══╬════════════════╬═══╬══»\n",
            "                             0   1              ║  ║                ║   ║  »\n",
            "meas0: 2/═══════════════════════════════════════╩══╩════════════════╬═══╬══»\n",
            "                                                0  1                ║   ║  »\n",
            "meas1: 2/═══════════════════════════════════════════════════════════╩═══╩══»\n",
            "                                                                    0   1  »\n",
            "meas2: 2/══════════════════════════════════════════════════════════════════»\n",
            "                                                                           »\n",
            "meas3: 2/══════════════════════════════════════════════════════════════════»\n",
            "                                                                           »\n",
            "«                  ░ ┌─┐┌───┐                 ░ ┌─┐   \n",
            "«    q_0: ──■───■──░─┤M├┤ H ├───────■───■──X──░─┤M├───\n",
            "«         ┌─┴─┐ │  ░ └╥┘└┬─┬┘┌───┐┌─┴─┐ │  │  ░ └╥┘┌─┐\n",
            "«    q_1: ┤ X ├─■──░──╫──┤M├─┤ H ├┤ X ├─■──X──░──╫─┤M├\n",
            "«         └───┘    ░  ║  └╥┘ └───┘└───┘       ░  ║ └╥┘\n",
            "«    c: 2/════════════╬═══╬══════════════════════╬══╬═\n",
            "«                     ║   ║                      ║  ║ \n",
            "« meas: 2/════════════╬═══╬══════════════════════╬══╬═\n",
            "«                     ║   ║                      ║  ║ \n",
            "«meas0: 2/════════════╬═══╬══════════════════════╬══╬═\n",
            "«                     ║   ║                      ║  ║ \n",
            "«meas1: 2/════════════╬═══╬══════════════════════╬══╬═\n",
            "«                     ║   ║                      ║  ║ \n",
            "«meas2: 2/════════════╩═══╩══════════════════════╬══╬═\n",
            "«                     0   1                      ║  ║ \n",
            "«meas3: 2/═══════════════════════════════════════╩══╩═\n",
            "«                                                0  1 \n",
            "\n",
            "Measurement Counts: {'11 10 10 11 00 00': 29, '01 11 01 10 11 00': 34, '11 11 01 10 11 00': 30, '00 00 00 00 00 00': 30, '01 00 00 00 00 00': 30, '00 01 11 01 11 00': 31, '10 11 01 10 11 00': 31, '10 00 00 00 00 00': 43, '01 11 00 00 00 00': 33, '00 00 01 10 11 00': 37, '11 01 11 01 11 00': 37, '00 11 00 00 00 00': 30, '10 01 11 01 11 00': 30, '10 11 00 00 00 00': 37, '00 10 10 11 00 00': 26, '10 10 11 01 11 00': 30, '11 01 10 11 00 00': 38, '01 10 10 11 00 00': 33, '00 11 01 10 11 00': 33, '10 10 10 11 00 00': 32, '01 00 01 10 11 00': 30, '01 10 11 01 11 00': 34, '10 00 01 10 11 00': 29, '11 11 00 00 00 00': 45, '10 01 10 11 00 00': 25, '00 01 10 11 00 00': 27, '11 00 00 00 00 00': 29, '00 10 11 01 11 00': 25, '11 00 01 10 11 00': 24, '01 01 10 11 00 00': 41, '11 10 11 01 11 00': 32, '01 01 11 01 11 00': 29}\n"
          ]
        }
      ]
    },
    {
      "cell_type": "code",
      "source": [],
      "metadata": {
        "id": "7o1tjefmVVep"
      },
      "execution_count": null,
      "outputs": []
    }
  ]
}